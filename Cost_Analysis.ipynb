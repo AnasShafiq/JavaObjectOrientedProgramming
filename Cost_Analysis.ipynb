{
  "nbformat": 4,
  "nbformat_minor": 0,
  "metadata": {
    "colab": {
      "provenance": [],
      "authorship_tag": "ABX9TyOYvoJaZXQA4DsYqjkXwuGM",
      "include_colab_link": true
    },
    "kernelspec": {
      "name": "python3",
      "display_name": "Python 3"
    },
    "language_info": {
      "name": "python"
    }
  },
  "cells": [
    {
      "cell_type": "markdown",
      "metadata": {
        "id": "view-in-github",
        "colab_type": "text"
      },
      "source": [
        "<a href=\"https://colab.research.google.com/github/AnasShafiq/JavaObjectOrientedProgramming/blob/patch-1/Cost_Analysis.ipynb\" target=\"_parent\"><img src=\"https://colab.research.google.com/assets/colab-badge.svg\" alt=\"Open In Colab\"/></a>"
      ]
    },
    {
      "cell_type": "markdown",
      "source": [
        "Importing Dataset"
      ],
      "metadata": {
        "id": "w-CkF5Oqvph8"
      }
    },
    {
      "cell_type": "code",
      "execution_count": 1,
      "metadata": {
        "colab": {
          "base_uri": "https://localhost:8080/"
        },
        "id": "ss7bzkMdeObi",
        "outputId": "aa7c1a86-adf9-4d84-8021-1c2484a57344"
      },
      "outputs": [
        {
          "output_type": "stream",
          "name": "stdout",
          "text": [
            "   Feature_ID                                       Feature_Name  \\\n",
            "0      733548  Payment Status Inquiry API (API-Monetization -...   \n",
            "1      733548  Payment Status Inquiry API (API-Monetization -...   \n",
            "2      733548  Payment Status Inquiry API (API-Monetization -...   \n",
            "3      733548  Payment Status Inquiry API (API-Monetization -...   \n",
            "4      733548  Payment Status Inquiry API (API-Monetization -...   \n",
            "\n",
            "  Feature_State Feature_StartDate Feature_LastModifieddate  PBI_Id  \\\n",
            "0        Closed        05/06/2024               11/19/2024  737841   \n",
            "1        Closed        05/06/2024               11/19/2024  737841   \n",
            "2        Closed        05/06/2024               11/19/2024  737841   \n",
            "3        Closed        05/06/2024               11/19/2024  737841   \n",
            "4        Closed        05/06/2024               11/19/2024  737841   \n",
            "\n",
            "                                           PBI_Title PBI_Status PBI_StartDate  \\\n",
            "0  Payment Status Inquiry | API Monetizations | A...     Closed    09/04/2024   \n",
            "1  Payment Status Inquiry | API Monetizations | A...     Closed    09/04/2024   \n",
            "2  Payment Status Inquiry | API Monetizations | A...     Closed    09/04/2024   \n",
            "3  Payment Status Inquiry | API Monetizations | A...     Closed    09/04/2024   \n",
            "4  Payment Status Inquiry | API Monetizations | A...     Closed    09/04/2024   \n",
            "\n",
            "  PBI_Last_ModifiedDate  ...  Last_Done_by_Resource_Name Working_Hours  \\\n",
            "0            11/28/2024  ...       Muhammad Kazim Lilani           8.0   \n",
            "1            11/28/2024  ...       Muhammad Kazim Lilani           8.0   \n",
            "2            11/28/2024  ...       Muhammad Kazim Lilani           8.0   \n",
            "3            11/28/2024  ...               Javeria Anwer           2.0   \n",
            "4            11/28/2024  ...               Javeria Anwer           4.0   \n",
            "\n",
            "   WorkItem_StartDate WorkItem_Last_modified  Sub_Feature_Classification  \\\n",
            "0          10/30/2024             11/07/2024                         MVP   \n",
            "1          09/18/2024             10/11/2024                         MVP   \n",
            "2          11/22/2024             11/26/2024                         MVP   \n",
            "3          10/07/2024             10/07/2024                         MVP   \n",
            "4          09/18/2024             09/27/2024                         MVP   \n",
            "\n",
            "  Product_Name Resource_Level WorkItemState RemainingWork  CompletedWork  \n",
            "0     Payments            NaN        Closed           NaN            NaN  \n",
            "1     Payments            NaN        Closed           NaN            8.0  \n",
            "2     Payments            NaN        Closed           NaN            8.0  \n",
            "3     Payments            NaN        Closed           NaN            NaN  \n",
            "4     Payments            NaN        Closed           NaN            NaN  \n",
            "\n",
            "[5 rows x 23 columns]\n"
          ]
        }
      ],
      "source": [
        "\n",
        "import pandas as pd\n",
        "data = pd.read_csv('/content/Payments.csv')\n",
        "print(data.head())\n"
      ]
    },
    {
      "cell_type": "markdown",
      "source": [
        "#Removing Irrelevant Info\n"
      ],
      "metadata": {
        "id": "O_SPrA7XuBIx"
      }
    },
    {
      "cell_type": "code",
      "source": [
        "# Select only the columns relevant to our analysis\n",
        "data_filtered = data[['Feature_ID', 'Feature_Name', 'PBI_Id', 'PBI_Title',\n",
        "                      'Last_Done_by_Resource_Name', 'Working_Hours']]\n",
        "\n",
        "# Rename columns for easier handling\n",
        "data_filtered.rename(columns={\n",
        "    'Feature_ID': 'FeatureID',\n",
        "    'Feature_Name': 'FeatureName',\n",
        "    'PBI_Id': 'TaskID',\n",
        "    'PBI_Title': 'TaskTitle',\n",
        "    'Last_Done_by_Resource_Name': 'Resource',\n",
        "    'Working_Hours': 'Effort'\n",
        "}, inplace=True)\n",
        "\n",
        "# Preview the cleaned data\n",
        "print(data_filtered.head())"
      ],
      "metadata": {
        "colab": {
          "base_uri": "https://localhost:8080/"
        },
        "id": "0JSebHFGfPhb",
        "outputId": "e40a7ca3-e8e9-4d89-bd4b-a0c68ae45509"
      },
      "execution_count": 2,
      "outputs": [
        {
          "output_type": "stream",
          "name": "stdout",
          "text": [
            "   FeatureID                                        FeatureName  TaskID  \\\n",
            "0     733548  Payment Status Inquiry API (API-Monetization -...  737841   \n",
            "1     733548  Payment Status Inquiry API (API-Monetization -...  737841   \n",
            "2     733548  Payment Status Inquiry API (API-Monetization -...  737841   \n",
            "3     733548  Payment Status Inquiry API (API-Monetization -...  737841   \n",
            "4     733548  Payment Status Inquiry API (API-Monetization -...  737841   \n",
            "\n",
            "                                           TaskTitle               Resource  \\\n",
            "0  Payment Status Inquiry | API Monetizations | A...  Muhammad Kazim Lilani   \n",
            "1  Payment Status Inquiry | API Monetizations | A...  Muhammad Kazim Lilani   \n",
            "2  Payment Status Inquiry | API Monetizations | A...  Muhammad Kazim Lilani   \n",
            "3  Payment Status Inquiry | API Monetizations | A...          Javeria Anwer   \n",
            "4  Payment Status Inquiry | API Monetizations | A...          Javeria Anwer   \n",
            "\n",
            "   Effort  \n",
            "0     8.0  \n",
            "1     8.0  \n",
            "2     8.0  \n",
            "3     2.0  \n",
            "4     4.0  \n"
          ]
        },
        {
          "output_type": "stream",
          "name": "stderr",
          "text": [
            "<ipython-input-2-7bb7a1e00dff>:6: SettingWithCopyWarning: \n",
            "A value is trying to be set on a copy of a slice from a DataFrame\n",
            "\n",
            "See the caveats in the documentation: https://pandas.pydata.org/pandas-docs/stable/user_guide/indexing.html#returning-a-view-versus-a-copy\n",
            "  data_filtered.rename(columns={\n"
          ]
        }
      ]
    },
    {
      "cell_type": "markdown",
      "source": [
        "#Total Efforts for each Feature (Hrs)"
      ],
      "metadata": {
        "id": "d37yeNREt6hB"
      }
    },
    {
      "cell_type": "code",
      "source": [
        "# Calculate total effort for each feature\n",
        "feature_efforts = data_filtered.groupby(['FeatureID', 'FeatureName'])['Effort'].sum().reset_index()\n",
        "\n",
        "feature_efforts.sort_values(by='Effort', ascending=False, inplace=True)\n",
        "\n",
        "print(feature_efforts.head())\n"
      ],
      "metadata": {
        "colab": {
          "base_uri": "https://localhost:8080/"
        },
        "id": "P015ASK8f-xL",
        "outputId": "7fe71c67-65ed-4ae1-aca1-5d4e94eecb56"
      },
      "execution_count": 3,
      "outputs": [
        {
          "output_type": "stream",
          "name": "stdout",
          "text": [
            "   FeatureID                                        FeatureName   Effort\n",
            "5     732213                                    Product Support  2051.05\n",
            "9     743814         NFT-Release Hardening (Features & Modules)   542.00\n",
            "4     732212                                Product Maintenance   390.75\n",
            "8     733548  Payment Status Inquiry API (API-Monetization -...   347.00\n",
            "2     732207  Region Biller Integration - Tasdeed/Omantel/OI...   339.00\n"
          ]
        }
      ]
    },
    {
      "cell_type": "markdown",
      "source": [
        "#Total Efforts for each resource (hrs)"
      ],
      "metadata": {
        "id": "Co8GBtrrttpO"
      }
    },
    {
      "cell_type": "code",
      "source": [
        "# Calculate total effort for each resource\n",
        "resource_efforts = data_filtered.groupby('Resource')['Effort'].sum().reset_index()\n",
        "\n",
        "resource_efforts.sort_values(by='Effort', ascending=False, inplace=True)\n",
        "\n",
        "print(resource_efforts.head())\n"
      ],
      "metadata": {
        "colab": {
          "base_uri": "https://localhost:8080/"
        },
        "id": "zAl-H6orgBOe",
        "outputId": "09dff6d1-cfef-4e65-bbeb-6c5051c6920a"
      },
      "execution_count": 4,
      "outputs": [
        {
          "output_type": "stream",
          "name": "stdout",
          "text": [
            "                 Resource  Effort\n",
            "14             Saad Ahmed   838.0\n",
            "4           Javeria Anwer   770.5\n",
            "10  Muhammad Kazim Lilani   670.0\n",
            "19           Wirda Yousuf   385.0\n",
            "18                 Uroosa   349.0\n"
          ]
        }
      ]
    },
    {
      "cell_type": "markdown",
      "source": [
        "## Exporting Files"
      ],
      "metadata": {
        "id": "evjL8fXVveBm"
      }
    },
    {
      "cell_type": "code",
      "source": [
        "# Save the summarized efforts to CSV files for further use\n",
        "feature_efforts.to_csv(\"Feature_Efforts.csv\", index=False)\n",
        "resource_efforts.to_csv(\"Resource_Efforts.csv\", index=False)\n",
        "\n",
        "print(\"Results saved as Feature_Efforts.csv and Resource_Efforts.csv!\")\n"
      ],
      "metadata": {
        "colab": {
          "base_uri": "https://localhost:8080/"
        },
        "id": "gHYRtyHIgK2Z",
        "outputId": "2c7b3218-b81c-49c5-cea7-7c282c780b78"
      },
      "execution_count": 6,
      "outputs": [
        {
          "output_type": "stream",
          "name": "stdout",
          "text": [
            "Results saved as Feature_Efforts.csv and Resource_Efforts.csv!\n"
          ]
        }
      ]
    },
    {
      "cell_type": "code",
      "source": [
        "# Group by Resource and sum up their Working_Hours\n",
        "resource_efforts = data_filtered.groupby('Resource')['Effort'].sum().reset_index()\n",
        "\n",
        "# Rename columns for clarity\n",
        "resource_efforts.rename(columns={'Effort': 'TotalEffort'}, inplace=True)\n",
        "\n",
        "# Sort by TotalEffort in descending order\n",
        "resource_efforts.sort_values(by='TotalEffort', ascending=False, inplace=True)\n",
        "\n",
        "# Display the top resources by effort\n",
        "print(\"Efforts by Resource:\")\n",
        "print(resource_efforts.head())\n"
      ],
      "metadata": {
        "colab": {
          "base_uri": "https://localhost:8080/"
        },
        "id": "Evh6Ltwtj-dR",
        "outputId": "27ca6773-1c9c-47bd-981d-417fa41e59ab"
      },
      "execution_count": 7,
      "outputs": [
        {
          "output_type": "stream",
          "name": "stdout",
          "text": [
            "Efforts by Resource:\n",
            "                 Resource  TotalEffort\n",
            "14             Saad Ahmed        838.0\n",
            "4           Javeria Anwer        770.5\n",
            "10  Muhammad Kazim Lilani        670.0\n",
            "19           Wirda Yousuf        385.0\n",
            "18                 Uroosa        349.0\n"
          ]
        }
      ]
    },
    {
      "cell_type": "markdown",
      "source": [
        "### Considering 8 hrs = 1 day"
      ],
      "metadata": {
        "id": "R33PZ58TwF0g"
      }
    },
    {
      "cell_type": "code",
      "source": [
        "\n",
        "data_filtered['Days'] = data_filtered['Effort'] / 8\n",
        "\n",
        "print(\"Data with Days column:\")\n",
        "print(data_filtered.head())\n"
      ],
      "metadata": {
        "colab": {
          "base_uri": "https://localhost:8080/"
        },
        "id": "WNvlgI8gkYWq",
        "outputId": "8afbf757-46c7-44cb-d570-12e32722bec7"
      },
      "execution_count": 8,
      "outputs": [
        {
          "output_type": "stream",
          "name": "stdout",
          "text": [
            "Data with Days column:\n",
            "   FeatureID                                        FeatureName  TaskID  \\\n",
            "0     733548  Payment Status Inquiry API (API-Monetization -...  737841   \n",
            "1     733548  Payment Status Inquiry API (API-Monetization -...  737841   \n",
            "2     733548  Payment Status Inquiry API (API-Monetization -...  737841   \n",
            "3     733548  Payment Status Inquiry API (API-Monetization -...  737841   \n",
            "4     733548  Payment Status Inquiry API (API-Monetization -...  737841   \n",
            "\n",
            "                                           TaskTitle               Resource  \\\n",
            "0  Payment Status Inquiry | API Monetizations | A...  Muhammad Kazim Lilani   \n",
            "1  Payment Status Inquiry | API Monetizations | A...  Muhammad Kazim Lilani   \n",
            "2  Payment Status Inquiry | API Monetizations | A...  Muhammad Kazim Lilani   \n",
            "3  Payment Status Inquiry | API Monetizations | A...          Javeria Anwer   \n",
            "4  Payment Status Inquiry | API Monetizations | A...          Javeria Anwer   \n",
            "\n",
            "   Effort  Days  \n",
            "0     8.0  1.00  \n",
            "1     8.0  1.00  \n",
            "2     8.0  1.00  \n",
            "3     2.0  0.25  \n",
            "4     4.0  0.50  \n"
          ]
        },
        {
          "output_type": "stream",
          "name": "stderr",
          "text": [
            "<ipython-input-8-5d9ce6305196>:2: SettingWithCopyWarning: \n",
            "A value is trying to be set on a copy of a slice from a DataFrame.\n",
            "Try using .loc[row_indexer,col_indexer] = value instead\n",
            "\n",
            "See the caveats in the documentation: https://pandas.pydata.org/pandas-docs/stable/user_guide/indexing.html#returning-a-view-versus-a-copy\n",
            "  data_filtered['Days'] = data_filtered['Effort'] / 8\n"
          ]
        }
      ]
    },
    {
      "cell_type": "markdown",
      "source": [
        "## Saving files\n",
        ""
      ],
      "metadata": {
        "id": "lfPW_PExwPTh"
      }
    },
    {
      "cell_type": "code",
      "source": [
        "# 1. Efforts by Feature\n",
        "feature_summary = data_filtered.groupby(['FeatureID', 'FeatureName']).agg(\n",
        "    TotalHours=('Effort', 'sum'),\n",
        "    TotalDays=('Days', 'sum')\n",
        ").reset_index()\n",
        "\n",
        "# 2. Efforts by Task\n",
        "task_summary = data_filtered.groupby(['FeatureID', 'FeatureName', 'TaskID', 'TaskTitle']).agg(\n",
        "    TotalHours=('Effort', 'sum'),\n",
        "    TotalDays=('Days', 'sum')\n",
        ").reset_index()\n",
        "\n",
        "# 3. Efforts by Resource\n",
        "resource_summary = data_filtered.groupby(['FeatureID', 'FeatureName', 'TaskID', 'TaskTitle', 'Resource']).agg(\n",
        "    TotalHours=('Effort', 'sum'),\n",
        "    TotalDays=('Days', 'sum')\n",
        ").reset_index()\n",
        "\n",
        "# Preview summaries\n",
        "print(\"Feature Summary:\")\n",
        "print(feature_summary.head())\n",
        "\n",
        "print(\"\\nTask Summary:\")\n",
        "print(task_summary.head())\n",
        "\n",
        "print(\"\\nResource Summary:\")\n",
        "print(resource_summary.head())\n"
      ],
      "metadata": {
        "colab": {
          "base_uri": "https://localhost:8080/"
        },
        "id": "kSOdp8IUkdjY",
        "outputId": "b3512b0b-0c44-4a3d-f35d-63ea6d1827e1"
      },
      "execution_count": 9,
      "outputs": [
        {
          "output_type": "stream",
          "name": "stdout",
          "text": [
            "Feature Summary:\n",
            "   FeatureID                                        FeatureName  TotalHours  \\\n",
            "0     732097                   REST and SOAP Enablement Phase 2       24.00   \n",
            "1     732206                        Clustering in IRIS Payments      226.00   \n",
            "2     732207  Region Biller Integration - Tasdeed/Omantel/OI...      339.00   \n",
            "3     732211  NFT-Performance Testing (Release, Features & M...      283.00   \n",
            "4     732212                                Product Maintenance      390.75   \n",
            "\n",
            "   TotalDays  \n",
            "0    3.00000  \n",
            "1   28.25000  \n",
            "2   42.37500  \n",
            "3   35.37500  \n",
            "4   48.84375  \n",
            "\n",
            "Task Summary:\n",
            "   FeatureID                                        FeatureName  TaskID  \\\n",
            "0     732097                   REST and SOAP Enablement Phase 2  732321   \n",
            "1     732206                        Clustering in IRIS Payments  732224   \n",
            "2     732207  Region Biller Integration - Tasdeed/Omantel/OI...  732222   \n",
            "3     732207  Region Biller Integration - Tasdeed/Omantel/OI...  734141   \n",
            "4     732207  Region Biller Integration - Tasdeed/Omantel/OI...  734145   \n",
            "\n",
            "                                           TaskTitle  TotalHours  TotalDays  \n",
            "0  Rest And Soap Enablement UI / Core / Suite (Tr...        24.0      3.000  \n",
            "1            NFT Clustering Activity - IRIS Payments       226.0     28.250  \n",
            "2                                TASDEED Integration        53.0      6.625  \n",
            "3                            Ooredoo Biller Addition         0.0      0.000  \n",
            "4  Omantel Biller Addition | IBM Message Queue Co...       163.0     20.375  \n",
            "\n",
            "Resource Summary:\n",
            "   FeatureID                       FeatureName  TaskID  \\\n",
            "0     732097  REST and SOAP Enablement Phase 2  732321   \n",
            "1     732097  REST and SOAP Enablement Phase 2  732321   \n",
            "2     732097  REST and SOAP Enablement Phase 2  732321   \n",
            "3     732206       Clustering in IRIS Payments  732224   \n",
            "4     732206       Clustering in IRIS Payments  732224   \n",
            "\n",
            "                                           TaskTitle  \\\n",
            "0  Rest And Soap Enablement UI / Core / Suite (Tr...   \n",
            "1  Rest And Soap Enablement UI / Core / Suite (Tr...   \n",
            "2  Rest And Soap Enablement UI / Core / Suite (Tr...   \n",
            "3            NFT Clustering Activity - IRIS Payments   \n",
            "4            NFT Clustering Activity - IRIS Payments   \n",
            "\n",
            "                    Resource  TotalHours  TotalDays  \n",
            "0    Muhammad Shaharyar Ayaz         0.0        0.0  \n",
            "1                 Saad Ahmed        24.0        3.0  \n",
            "2  Syed Muhammad Shaji Nazar         0.0        0.0  \n",
            "3            M. Obaid Ashraf         4.0        0.5  \n",
            "4      Muhammad Kazim Lilani        32.0        4.0  \n"
          ]
        }
      ]
    },
    {
      "cell_type": "code",
      "source": [
        "# Save summaries to CSV files\n",
        "feature_summary.to_csv(\"Feature_Summary.csv\", index=False)\n",
        "task_summary.to_csv(\"Task_Summary.csv\", index=False)\n",
        "resource_summary.to_csv(\"Resource_Summary.csv\", index=False)\n",
        "\n",
        "print(\"Summaries saved as CSV files: Feature_Summary.csv, Task_Summary.csv, and Resource_Summary.csv!\")\n"
      ],
      "metadata": {
        "colab": {
          "base_uri": "https://localhost:8080/"
        },
        "id": "i5UcRf21kew2",
        "outputId": "2ade472d-061e-445c-8635-425a992c5934"
      },
      "execution_count": 10,
      "outputs": [
        {
          "output_type": "stream",
          "name": "stdout",
          "text": [
            "Summaries saved as CSV files: Feature_Summary.csv, Task_Summary.csv, and Resource_Summary.csv!\n"
          ]
        }
      ]
    },
    {
      "cell_type": "code",
      "source": [
        "!pip install xlsxwriter\n",
        "import pandas as pd\n",
        "\n",
        "\n",
        "# Define the file name for the Excel file\n",
        "output_file = \"Summaries.xlsx\"\n",
        "\n",
        "# Create an ExcelWriter object to write multiple sheets\n",
        "with pd.ExcelWriter(output_file, engine=\"xlsxwriter\") as writer:\n",
        "    # Write each summary to a separate sheet\n",
        "    feature_summary.to_excel(writer, sheet_name=\"Feature Summary\", index=False)\n",
        "    task_summary.to_excel(writer, sheet_name=\"Task Summary\", index=False)\n",
        "    resource_summary.to_excel(writer, sheet_name=\"Resource Summary\", index=False)\n",
        "\n",
        "print(f\"Summaries saved as an Excel file: {output_file} with three sheets!\")"
      ],
      "metadata": {
        "colab": {
          "base_uri": "https://localhost:8080/"
        },
        "id": "GB07SVSlrdTY",
        "outputId": "d9cff9ed-e82c-4a26-c73a-483dd69c951e"
      },
      "execution_count": 16,
      "outputs": [
        {
          "output_type": "stream",
          "name": "stdout",
          "text": [
            "Collecting xlsxwriter\n",
            "  Downloading XlsxWriter-3.2.0-py3-none-any.whl.metadata (2.6 kB)\n",
            "Downloading XlsxWriter-3.2.0-py3-none-any.whl (159 kB)\n",
            "\u001b[?25l   \u001b[90m━━━━━━━━━━━━━━━━━━━━━━━━━━━━━━━━━━━━━━━━\u001b[0m \u001b[32m0.0/159.9 kB\u001b[0m \u001b[31m?\u001b[0m eta \u001b[36m-:--:--\u001b[0m\r\u001b[2K   \u001b[91m━━━━━━━━━━━━━━━━━━━━━━━━━━━━━━━━━━━━━━\u001b[0m\u001b[90m╺\u001b[0m\u001b[90m━\u001b[0m \u001b[32m153.6/159.9 kB\u001b[0m \u001b[31m4.6 MB/s\u001b[0m eta \u001b[36m0:00:01\u001b[0m\r\u001b[2K   \u001b[90m━━━━━━━━━━━━━━━━━━━━━━━━━━━━━━━━━━━━━━━━\u001b[0m \u001b[32m159.9/159.9 kB\u001b[0m \u001b[31m3.4 MB/s\u001b[0m eta \u001b[36m0:00:00\u001b[0m\n",
            "\u001b[?25hInstalling collected packages: xlsxwriter\n",
            "Successfully installed xlsxwriter-3.2.0\n",
            "Summaries saved as an Excel file: Summaries.xlsx with three sheets!\n"
          ]
        }
      ]
    },
    {
      "cell_type": "code",
      "source": [
        "import pandas as pd\n",
        "\n",
        "# Assuming data is already loaded into data_filtered\n",
        "\n",
        "# Define fiscal year range\n",
        "fiscal_year_start = '2024-07-01'\n",
        "fiscal_year_end = '2025-06-30'\n",
        "\n",
        "# Ensure the date columns are in datetime format\n",
        "data_filtered['Feature_StartDate'] = pd.to_datetime(data_filtered['Feature_StartDate'])\n",
        "data_filtered['Feature_LastModifiedDate'] = pd.to_datetime(data_filtered['Feature_LastModifiedDate'])\n",
        "\n",
        "# Filter rows where the Feature Start Date or Last Modified Date falls within the fiscal year\n",
        "filtered_fiscal_data = data_filtered[\n",
        "    (data_filtered['Feature_StartDate'] >= fiscal_year_start) &\n",
        "    (data_filtered['Feature_LastModifiedDate'] <= fiscal_year_end)\n",
        "]\n",
        "\n",
        "# Group by resource and calculate total hours and total days spent during the fiscal year\n",
        "fiscal_year_engagement = filtered_fiscal_data.groupby('Resource').agg(\n",
        "    TotalHours=('Effort', 'sum'),\n",
        "    TotalDays=('Days', 'sum')\n",
        ").reset_index()\n",
        "\n",
        "# Output the result for fiscal year engagement\n",
        "print(\"Resource Engagement for Fiscal Year:\")\n",
        "print(fiscal_year_engagement.head())\n"
      ],
      "metadata": {
        "colab": {
          "base_uri": "https://localhost:8080/"
        },
        "id": "YMnmcgZxwyf2",
        "outputId": "6e088f22-6dc4-4016-da33-f003924a699f"
      },
      "execution_count": 17,
      "outputs": [
        {
          "output_type": "error",
          "ename": "KeyError",
          "evalue": "'Feature_StartDate'",
          "traceback": [
            "\u001b[0;31m---------------------------------------------------------------------------\u001b[0m",
            "\u001b[0;31mKeyError\u001b[0m                                  Traceback (most recent call last)",
            "\u001b[0;32m/usr/local/lib/python3.10/dist-packages/pandas/core/indexes/base.py\u001b[0m in \u001b[0;36mget_loc\u001b[0;34m(self, key)\u001b[0m\n\u001b[1;32m   3804\u001b[0m         \u001b[0;32mtry\u001b[0m\u001b[0;34m:\u001b[0m\u001b[0;34m\u001b[0m\u001b[0;34m\u001b[0m\u001b[0m\n\u001b[0;32m-> 3805\u001b[0;31m             \u001b[0;32mreturn\u001b[0m \u001b[0mself\u001b[0m\u001b[0;34m.\u001b[0m\u001b[0m_engine\u001b[0m\u001b[0;34m.\u001b[0m\u001b[0mget_loc\u001b[0m\u001b[0;34m(\u001b[0m\u001b[0mcasted_key\u001b[0m\u001b[0;34m)\u001b[0m\u001b[0;34m\u001b[0m\u001b[0;34m\u001b[0m\u001b[0m\n\u001b[0m\u001b[1;32m   3806\u001b[0m         \u001b[0;32mexcept\u001b[0m \u001b[0mKeyError\u001b[0m \u001b[0;32mas\u001b[0m \u001b[0merr\u001b[0m\u001b[0;34m:\u001b[0m\u001b[0;34m\u001b[0m\u001b[0;34m\u001b[0m\u001b[0m\n",
            "\u001b[0;32mindex.pyx\u001b[0m in \u001b[0;36mpandas._libs.index.IndexEngine.get_loc\u001b[0;34m()\u001b[0m\n",
            "\u001b[0;32mindex.pyx\u001b[0m in \u001b[0;36mpandas._libs.index.IndexEngine.get_loc\u001b[0;34m()\u001b[0m\n",
            "\u001b[0;32mpandas/_libs/hashtable_class_helper.pxi\u001b[0m in \u001b[0;36mpandas._libs.hashtable.PyObjectHashTable.get_item\u001b[0;34m()\u001b[0m\n",
            "\u001b[0;32mpandas/_libs/hashtable_class_helper.pxi\u001b[0m in \u001b[0;36mpandas._libs.hashtable.PyObjectHashTable.get_item\u001b[0;34m()\u001b[0m\n",
            "\u001b[0;31mKeyError\u001b[0m: 'Feature_StartDate'",
            "\nThe above exception was the direct cause of the following exception:\n",
            "\u001b[0;31mKeyError\u001b[0m                                  Traceback (most recent call last)",
            "\u001b[0;32m<ipython-input-17-eeec29f95e00>\u001b[0m in \u001b[0;36m<cell line: 10>\u001b[0;34m()\u001b[0m\n\u001b[1;32m      8\u001b[0m \u001b[0;34m\u001b[0m\u001b[0m\n\u001b[1;32m      9\u001b[0m \u001b[0;31m# Ensure the date columns are in datetime format\u001b[0m\u001b[0;34m\u001b[0m\u001b[0;34m\u001b[0m\u001b[0m\n\u001b[0;32m---> 10\u001b[0;31m \u001b[0mdata_filtered\u001b[0m\u001b[0;34m[\u001b[0m\u001b[0;34m'Feature_StartDate'\u001b[0m\u001b[0;34m]\u001b[0m \u001b[0;34m=\u001b[0m \u001b[0mpd\u001b[0m\u001b[0;34m.\u001b[0m\u001b[0mto_datetime\u001b[0m\u001b[0;34m(\u001b[0m\u001b[0mdata_filtered\u001b[0m\u001b[0;34m[\u001b[0m\u001b[0;34m'Feature_StartDate'\u001b[0m\u001b[0;34m]\u001b[0m\u001b[0;34m)\u001b[0m\u001b[0;34m\u001b[0m\u001b[0;34m\u001b[0m\u001b[0m\n\u001b[0m\u001b[1;32m     11\u001b[0m \u001b[0mdata_filtered\u001b[0m\u001b[0;34m[\u001b[0m\u001b[0;34m'Feature_LastModifiedDate'\u001b[0m\u001b[0;34m]\u001b[0m \u001b[0;34m=\u001b[0m \u001b[0mpd\u001b[0m\u001b[0;34m.\u001b[0m\u001b[0mto_datetime\u001b[0m\u001b[0;34m(\u001b[0m\u001b[0mdata_filtered\u001b[0m\u001b[0;34m[\u001b[0m\u001b[0;34m'Feature_LastModifiedDate'\u001b[0m\u001b[0;34m]\u001b[0m\u001b[0;34m)\u001b[0m\u001b[0;34m\u001b[0m\u001b[0;34m\u001b[0m\u001b[0m\n\u001b[1;32m     12\u001b[0m \u001b[0;34m\u001b[0m\u001b[0m\n",
            "\u001b[0;32m/usr/local/lib/python3.10/dist-packages/pandas/core/frame.py\u001b[0m in \u001b[0;36m__getitem__\u001b[0;34m(self, key)\u001b[0m\n\u001b[1;32m   4100\u001b[0m             \u001b[0;32mif\u001b[0m \u001b[0mself\u001b[0m\u001b[0;34m.\u001b[0m\u001b[0mcolumns\u001b[0m\u001b[0;34m.\u001b[0m\u001b[0mnlevels\u001b[0m \u001b[0;34m>\u001b[0m \u001b[0;36m1\u001b[0m\u001b[0;34m:\u001b[0m\u001b[0;34m\u001b[0m\u001b[0;34m\u001b[0m\u001b[0m\n\u001b[1;32m   4101\u001b[0m                 \u001b[0;32mreturn\u001b[0m \u001b[0mself\u001b[0m\u001b[0;34m.\u001b[0m\u001b[0m_getitem_multilevel\u001b[0m\u001b[0;34m(\u001b[0m\u001b[0mkey\u001b[0m\u001b[0;34m)\u001b[0m\u001b[0;34m\u001b[0m\u001b[0;34m\u001b[0m\u001b[0m\n\u001b[0;32m-> 4102\u001b[0;31m             \u001b[0mindexer\u001b[0m \u001b[0;34m=\u001b[0m \u001b[0mself\u001b[0m\u001b[0;34m.\u001b[0m\u001b[0mcolumns\u001b[0m\u001b[0;34m.\u001b[0m\u001b[0mget_loc\u001b[0m\u001b[0;34m(\u001b[0m\u001b[0mkey\u001b[0m\u001b[0;34m)\u001b[0m\u001b[0;34m\u001b[0m\u001b[0;34m\u001b[0m\u001b[0m\n\u001b[0m\u001b[1;32m   4103\u001b[0m             \u001b[0;32mif\u001b[0m \u001b[0mis_integer\u001b[0m\u001b[0;34m(\u001b[0m\u001b[0mindexer\u001b[0m\u001b[0;34m)\u001b[0m\u001b[0;34m:\u001b[0m\u001b[0;34m\u001b[0m\u001b[0;34m\u001b[0m\u001b[0m\n\u001b[1;32m   4104\u001b[0m                 \u001b[0mindexer\u001b[0m \u001b[0;34m=\u001b[0m \u001b[0;34m[\u001b[0m\u001b[0mindexer\u001b[0m\u001b[0;34m]\u001b[0m\u001b[0;34m\u001b[0m\u001b[0;34m\u001b[0m\u001b[0m\n",
            "\u001b[0;32m/usr/local/lib/python3.10/dist-packages/pandas/core/indexes/base.py\u001b[0m in \u001b[0;36mget_loc\u001b[0;34m(self, key)\u001b[0m\n\u001b[1;32m   3810\u001b[0m             ):\n\u001b[1;32m   3811\u001b[0m                 \u001b[0;32mraise\u001b[0m \u001b[0mInvalidIndexError\u001b[0m\u001b[0;34m(\u001b[0m\u001b[0mkey\u001b[0m\u001b[0;34m)\u001b[0m\u001b[0;34m\u001b[0m\u001b[0;34m\u001b[0m\u001b[0m\n\u001b[0;32m-> 3812\u001b[0;31m             \u001b[0;32mraise\u001b[0m \u001b[0mKeyError\u001b[0m\u001b[0;34m(\u001b[0m\u001b[0mkey\u001b[0m\u001b[0;34m)\u001b[0m \u001b[0;32mfrom\u001b[0m \u001b[0merr\u001b[0m\u001b[0;34m\u001b[0m\u001b[0;34m\u001b[0m\u001b[0m\n\u001b[0m\u001b[1;32m   3813\u001b[0m         \u001b[0;32mexcept\u001b[0m \u001b[0mTypeError\u001b[0m\u001b[0;34m:\u001b[0m\u001b[0;34m\u001b[0m\u001b[0;34m\u001b[0m\u001b[0m\n\u001b[1;32m   3814\u001b[0m             \u001b[0;31m# If we have a listlike key, _check_indexing_error will raise\u001b[0m\u001b[0;34m\u001b[0m\u001b[0;34m\u001b[0m\u001b[0m\n",
            "\u001b[0;31mKeyError\u001b[0m: 'Feature_StartDate'"
          ]
        }
      ]
    }
  ]
}